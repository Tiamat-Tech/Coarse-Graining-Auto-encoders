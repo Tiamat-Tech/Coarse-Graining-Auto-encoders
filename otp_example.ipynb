{
 "cells": [
  {
   "cell_type": "code",
   "execution_count": null,
   "metadata": {
    "scrolled": true
   },
   "outputs": [],
   "source": [
    "import torch\n",
    "from torch import nn, optim\n",
    "import matplotlib.pyplot as plt\n",
    "import mdtraj as md\n",
    "import math\n",
    "from cgae.utils import write_traj, save_traj\n",
    "from cgae.cgae_dense import *\n",
    "import numpy as np"
   ]
  },
  {
   "cell_type": "code",
   "execution_count": null,
   "metadata": {
    "scrolled": true
   },
   "outputs": [],
   "source": [
    "# hyperparameters \n",
    "par = {}\n",
    "par[\"n_atom\"] = 32\n",
    "par[\"N_cg\"] = 3\n",
    "par[\"lr\"]  = 1e-4\n",
    "par[\"batch_size\"] = 20  \n",
    "par[\"Tstart\"] = 4.0      # starting temperature \n",
    "par[\"max_epoch\"] = 800\n",
    "par[\"n_mol\"] = 1         # number of molecules, \n",
    "par[\"epoch_regularize\"] = 400    # first epoch to include instataneous force regularization\n",
    "par[\"rho\"] = 0.005       # relative weight for force regularization\n",
    "par[\"decay_ratio\"] = 0.4 # the decay rate for the temperature annealing \n",
    "device = 'cpu'"
   ]
  },
  {
   "cell_type": "code",
   "execution_count": null,
   "metadata": {
    "scrolled": true
   },
   "outputs": [],
   "source": [
    "# load data \n",
    "otp = md.load(\"data/otp.pdb\")\n",
    "otp_top = otp.top.to_dataframe()[0]\n",
    "otp_element = otp_top['element'].values.tolist()\n",
    "traj = np.load('data/otp_xyz.npy')\n",
    "force = np.load('data/otp_force.npy')"
   ]
  },
  {
   "cell_type": "code",
   "execution_count": null,
   "metadata": {
    "scrolled": true
   },
   "outputs": [],
   "source": [
    "# prepare data \n",
    "traj = traj[-3000:] * 10\n",
    "force = force[-3000:] * 0.0239\n",
    "\n",
    "N_cg = par[\"N_cg\"]\n",
    "n_atom = par[\"n_atom\"]\n",
    "n_mol = par[\"n_mol\"]\n",
    "batch_size = par[\"batch_size\"]\n",
    "n_batch = int(traj.shape[0] // batch_size)\n",
    "n_sample = n_batch * batch_size\n",
    "xyz = traj[:n_sample].reshape(-1, batch_size, n_mol, n_atom, 3)\n",
    "force = force[:n_sample].reshape(-1, batch_size, n_atom, 3)\n",
    "device = \"cpu\""
   ]
  },
  {
   "cell_type": "code",
   "execution_count": null,
   "metadata": {
    "scrolled": true
   },
   "outputs": [],
   "source": [
    "encoder = Encoder(in_dim=par[\"n_atom\"], out_dim=par[\"N_cg\"], hard=False, device=device).to(device)\n",
    "decoder = Decoder(in_dim=par[\"N_cg\"], out_dim=par[\"n_atom\"]).to(device)\n",
    "\n",
    "# Initialize Temperature Scheduler for Gumbel softmax \n",
    "t0 = par[\"Tstart\"]\n",
    "tmin = 0.2\n",
    "temp = np.linspace(0, par[\"max_epoch\"], par[\"max_epoch\"] )\n",
    "\n",
    "decay_epoch = int(par[\"max_epoch\"] * par[\"decay_ratio\"])\n",
    "t_sched = t0 * np.exp(-temp/decay_epoch ) +  tmin\n",
    "t_sched = torch.Tensor(t_sched).to(device)\n",
    "\n",
    "\n",
    "# Initialize Optimizer \n",
    "criterion = torch.nn.MSELoss()\n",
    "optimizer = optim.Adam(list(encoder.parameters()) + list(decoder.parameters()), lr=par[\"lr\"]) \n",
    "\n",
    "loss_log = []\n",
    "loss_ae_log = []\n",
    "loss_fm_log = []"
   ]
  },
  {
   "cell_type": "code",
   "execution_count": null,
   "metadata": {},
   "outputs": [],
   "source": [
    "for epoch in range(par[\"max_epoch\"]):  \n",
    "        loss_epoch = 0.0  \n",
    "        loss_ae_epoch = 0.0\n",
    "        loss_fm_epoch = 0.0\n",
    "            \n",
    "        for i, batch in enumerate(xyz):\n",
    "            batch = torch.Tensor(batch.reshape(-1, n_atom, 3)).to(device) \n",
    "            cg_xyz = encoder(batch, t_sched[epoch])\n",
    "            CG = gumbel_softmax(encoder.weight1.t(), t_sched[epoch] * 0.7, device=device).t()\n",
    "\n",
    "            decoded = decoder(cg_xyz)\n",
    "            loss_ae = criterion(decoded, batch)\n",
    "            \n",
    "            f0 = torch.Tensor(force[i].reshape(-1, n_atom, 3)).to(device)\n",
    "            f = torch.matmul(CG, f0)\n",
    "            mean_force = f.pow(2).sum(2).mean()\n",
    "\n",
    "            loss_fm = mean_force\n",
    "            \n",
    "            if epoch >= par[\"epoch_regularize\"]:\n",
    "                loss = par[\"rho\"] * loss_ae + par[\"rho\"]  * mean_force\n",
    "            else: \n",
    "                loss = par[\"rho\"] * loss_ae\n",
    "\n",
    "            optimizer.zero_grad()\n",
    "            loss.backward()\n",
    "            optimizer.step()\n",
    "            \n",
    "            loss_epoch += loss.item()\n",
    "            loss_ae_epoch += loss_ae.item()\n",
    "            loss_fm_epoch += loss_fm.item()\n",
    "        \n",
    "        loss_epoch = loss_epoch/xyz.shape[0]\n",
    "        loss_ae_epoch = loss_ae_epoch/xyz.shape[0]\n",
    "        loss_fm_epoch = loss_fm_epoch/xyz.shape[0]\n",
    "\n",
    "        loss_log.append(loss_epoch)\n",
    "        loss_ae_log.append(loss_ae_epoch)\n",
    "        loss_fm_log.append(loss_fm_epoch)\n",
    "\n",
    "        print(\"epoch %d reconstruction  %.3f instantaneous forces %.3f  tau  %.3f\"  % (epoch, loss_ae_epoch, loss_fm_epoch, t_sched[epoch].item()))\n",
    "\n",
    "        # Plot the mapping \n",
    "        CG = gumbel_softmax(encoder.weight1.t(), t_sched[epoch], device=device).t()\n",
    "        plt.imshow(CG.detach().cpu().numpy(), aspect=4)\n",
    "        plt.xticks(np.arange(n_atom), otp_element)\n",
    "        plt.yticks(np.arange(N_cg), [\"CG\" + str(i+1) for i in range(N_cg)])\n",
    "        plt.show()"
   ]
  },
  {
   "cell_type": "code",
   "execution_count": null,
   "metadata": {
    "scrolled": true
   },
   "outputs": [],
   "source": [
    "# Save trajectory \n",
    "save_traj(Z=[1] * N_cg, traj=cg_xyz.detach().cpu().numpy(),name= 'CG.xyz')\n",
    "save_traj(Z=otp_element, traj=decoded.detach().cpu().numpy(),name='decode.xyz')"
   ]
  },
  {
   "cell_type": "code",
   "execution_count": null,
   "metadata": {},
   "outputs": [],
   "source": [
    "cg_xyz[0]"
   ]
  },
  {
   "cell_type": "code",
   "execution_count": null,
   "metadata": {},
   "outputs": [],
   "source": []
  }
 ],
 "metadata": {
  "kernelspec": {
   "display_name": "Python 3",
   "language": "python",
   "name": "python3"
  },
  "language_info": {
   "codemirror_mode": {
    "name": "ipython",
    "version": 3
   },
   "file_extension": ".py",
   "mimetype": "text/x-python",
   "name": "python",
   "nbconvert_exporter": "python",
   "pygments_lexer": "ipython3",
   "version": "3.7.3"
  },
  "pycharm": {
   "stem_cell": {
    "cell_type": "raw",
    "metadata": {
     "collapsed": false
    },
    "source": []
   }
  }
 },
 "nbformat": 4,
 "nbformat_minor": 2
}
