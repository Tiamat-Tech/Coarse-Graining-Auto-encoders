{
 "cells": [
  {
   "cell_type": "code",
   "execution_count": null,
   "metadata": {},
   "outputs": [],
   "source": [
    "%load_ext autoreload\n",
    "%autoreload 2\n",
    "%matplotlib inline"
   ]
  },
  {
   "cell_type": "code",
   "execution_count": null,
   "metadata": {},
   "outputs": [],
   "source": [
    "import torch\n",
    "import numpy as np\n",
    "import matplotlib.pyplot as plt"
   ]
  },
  {
   "cell_type": "code",
   "execution_count": null,
   "metadata": {},
   "outputs": [],
   "source": [
    "from se3cnn.util.plot import spherical_harmonics_coeff_to_sphere"
   ]
  },
  {
   "cell_type": "code",
   "execution_count": null,
   "metadata": {},
   "outputs": [],
   "source": [
    "import plotly.graph_objects as go"
   ]
  },
  {
   "cell_type": "code",
   "execution_count": null,
   "metadata": {},
   "outputs": [],
   "source": [
    "import vistools\n",
    "import otp\n",
    "import cgae.cgae"
   ]
  },
  {
   "cell_type": "code",
   "execution_count": null,
   "metadata": {},
   "outputs": [],
   "source": [
    "def traces_lines(ar, color='red'):\n",
    "    def trace_two(a):\n",
    "        x, y, z = a.T\n",
    "        trace = go.Scatter3d(\n",
    "            x=x,\n",
    "            y=y,\n",
    "            z=z,\n",
    "            mode='lines',\n",
    "            line=dict(color=color, width=4)\n",
    "        )\n",
    "        return trace\n",
    "    \n",
    "    pairs = [np.asarray(i) for i in combinations(ar, 2)]\n",
    "    traces = [trace_two(i) for i in pairs]\n",
    "    return traces"
   ]
  },
  {
   "cell_type": "markdown",
   "metadata": {},
   "source": [
    "# It all starts here"
   ]
  },
  {
   "cell_type": "code",
   "execution_count": null,
   "metadata": {},
   "outputs": [],
   "source": [
    "def load_batched_xyz(pkl):\n",
    "    args = pkl['args']\n",
    "    args.device = 'cpu'\n",
    "    xyz, forces, features = otp.data(pkl['args'])\n",
    "    n_batches, xyz, forces, features = otp.batch(xyz, forces, features, pkl['args'])\n",
    "    return n_batches, xyz, forces, features"
   ]
  },
  {
   "cell_type": "code",
   "execution_count": null,
   "metadata": {},
   "outputs": [],
   "source": [
    "ls -lht *.pkl"
   ]
  },
  {
   "cell_type": "code",
   "execution_count": null,
   "metadata": {},
   "outputs": [],
   "source": [
    "# Select save data here\n",
    "PICKLE = 'se_long.pkl'\n",
    "\n",
    "pkl = torch.load(PICKLE, map_location='cpu')\n",
    "_, xyz, _, features = load_batched_xyz(pkl)"
   ]
  },
  {
   "cell_type": "code",
   "execution_count": null,
   "metadata": {},
   "outputs": [],
   "source": [
    "steps = len(pkl['dynamics'])\n",
    "epochs = pkl['dynamics'][-1]['epoch']\n",
    "print(f\"There are {steps} steps.\")\n",
    "print(f\"Corresponding to {epochs} epochs.\")\n",
    "print(f\"i.e. about {steps/epochs} steps/epoch\")"
   ]
  },
  {
   "cell_type": "code",
   "execution_count": null,
   "metadata": {},
   "outputs": [],
   "source": [
    "fig, ax = plt.subplots(nrows=2, ncols=1, sharex=True)\n",
    "loss = [i['loss'] for i in pkl['dynamics']]\n",
    "loss_ae = [i['loss_ae'] for i in pkl['dynamics']]\n",
    "loss_fm = [i['loss_fm'] for i in pkl['dynamics']]\n",
    "\n",
    "ax[0].plot(loss, label='total loss')\n",
    "ax[0].plot(loss_fm, label='force match')\n",
    "ax[0].legend()\n",
    "\n",
    "ax[1].plot(loss_ae, label='autoenc')\n",
    "ax[1].legend()\n",
    "\n",
    "fig.tight_layout()\n",
    "plt.show()\n",
    "plt.savefig('loss.png')"
   ]
  },
  {
   "cell_type": "markdown",
   "metadata": {},
   "source": [
    "# Visualize frame"
   ]
  },
  {
   "cell_type": "code",
   "execution_count": null,
   "metadata": {},
   "outputs": [],
   "source": [
    "frame = 777\n",
    "example = 0"
   ]
  },
  {
   "cell_type": "code",
   "execution_count": null,
   "metadata": {},
   "outputs": [],
   "source": [
    "temp = pkl['summaries'][frame]['temp']\n",
    "batch = pkl['summaries'][frame]['batch']\n",
    "geo = xyz[batch, example].detach().numpy()\n",
    "gumble = pkl['summaries'][frame]['gumble'][example]\n",
    "st_gumble = pkl['summaries'][frame]['st_gumble'][example]\n",
    "\n",
    "cg_xyz = pkl['summaries'][frame]['cg_xyz'][example].detach().numpy()\n",
    "\n",
    "print(temp, batch)"
   ]
  },
  {
   "cell_type": "code",
   "execution_count": null,
   "metadata": {},
   "outputs": [],
   "source": [
    "plt.imshow(gumble.detach().cpu().numpy().T, aspect=4)\n",
    "# plt.xticks(np.arange(32))\n",
    "# plt.yticks(np.arange(3))\n",
    "# plt.yticks(np.arange(pkl['args'].ncg), [\"CG\" + str(i+1) for i in range(N_cg)])\n",
    "plt.show()"
   ]
  },
  {
   "cell_type": "code",
   "execution_count": null,
   "metadata": {},
   "outputs": [],
   "source": [
    "def ylms_to_surface(ylms, center):\n",
    "    xyz_signal = vistools.sh_coeff_to_xyz_signal(ylms, angular_resolution=100, r_scale=0.5)\n",
    "    surface = vistools.xyz_signal_to_surface(xyz_signal, center)\n",
    "    return surface\n",
    "\n",
    "colors = ['red', 'green', 'blue']\n",
    "colormap = {i: c for i, c in enumerate(colors)}"
   ]
  },
  {
   "cell_type": "code",
   "execution_count": null,
   "metadata": {},
   "outputs": [],
   "source": [
    "cg_sph = pkl['summaries'][frame]['pred_sph'][example].detach().numpy()\n",
    "cg_sph_0 = pkl['summaries'][frame]['pred_sph'][example, :, :36].detach().numpy()\n",
    "cg_sph_1 = pkl['summaries'][frame]['pred_sph'][example, :, 36:].detach().numpy()"
   ]
  },
  {
   "cell_type": "code",
   "execution_count": null,
   "metadata": {},
   "outputs": [],
   "source": [
    "# Hydrogen signal\n",
    "data = [ylms_to_surface(ylms=cg_sph_0[i], center=cg_xyz[i]) for i in range(3)]\n",
    "\n",
    "for color in colors:\n",
    "    mask = vistools.assignment_to_color(st_gumble, colormap) == color\n",
    "    data += [vistools.trace_pts(geo[mask.flatten()], color=color)]\n",
    "\n",
    "fig = go.Figure(data=data)\n",
    "fig.show()"
   ]
  },
  {
   "cell_type": "code",
   "execution_count": null,
   "metadata": {},
   "outputs": [],
   "source": [
    "# Carbon signal\n",
    "data = [ylms_to_surface(ylms=cg_sph_1[i], center=cg_xyz[i]) for i in range(3)]\n",
    "\n",
    "for color in colors:\n",
    "    mask = vistools.assignment_to_color(st_gumble, colormap) == color\n",
    "    data += [vistools.trace_pts(geo[mask.flatten()], color=color)]\n",
    "\n",
    "fig = go.Figure(data=data)\n",
    "fig.show()"
   ]
  },
  {
   "cell_type": "code",
   "execution_count": null,
   "metadata": {},
   "outputs": [],
   "source": []
  }
 ],
 "metadata": {
  "kernelspec": {
   "display_name": "Python 3",
   "language": "python",
   "name": "python3"
  },
  "language_info": {
   "codemirror_mode": {
    "name": "ipython",
    "version": 3
   },
   "file_extension": ".py",
   "mimetype": "text/x-python",
   "name": "python",
   "nbconvert_exporter": "python",
   "pygments_lexer": "ipython3",
   "version": "3.7.3"
  }
 },
 "nbformat": 4,
 "nbformat_minor": 2
}
