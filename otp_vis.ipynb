{
 "cells": [
  {
   "cell_type": "code",
   "execution_count": null,
   "metadata": {},
   "outputs": [],
   "source": [
    "%load_ext autoreload\n",
    "%autoreload 2\n",
    "%matplotlib inline"
   ]
  },
  {
   "cell_type": "code",
   "execution_count": null,
   "metadata": {},
   "outputs": [],
   "source": [
    "import torch\n",
    "import numpy as np\n",
    "import matplotlib.pyplot as plt"
   ]
  },
  {
   "cell_type": "code",
   "execution_count": null,
   "metadata": {},
   "outputs": [],
   "source": [
    "from se3cnn.util.plot import spherical_harmonics_coeff_to_sphere"
   ]
  },
  {
   "cell_type": "code",
   "execution_count": null,
   "metadata": {},
   "outputs": [],
   "source": [
    "import plotly.graph_objects as go"
   ]
  },
  {
   "cell_type": "code",
   "execution_count": null,
   "metadata": {},
   "outputs": [],
   "source": [
    "import vistools\n",
    "import otp\n",
    "import cgae.cgae"
   ]
  },
  {
   "cell_type": "code",
   "execution_count": null,
   "metadata": {},
   "outputs": [],
   "source": [
    "def traces_lines(ar, color='red'):\n",
    "    def trace_two(a):\n",
    "        x, y, z = a.T\n",
    "        trace = go.Scatter3d(\n",
    "            x=x,\n",
    "            y=y,\n",
    "            z=z,\n",
    "            mode='lines',\n",
    "            line=dict(color=color, width=4)\n",
    "        )\n",
    "        return trace\n",
    "    \n",
    "    pairs = [np.asarray(i) for i in combinations(ar, 2)]\n",
    "    traces = [trace_two(i) for i in pairs]\n",
    "    return traces"
   ]
  },
  {
   "cell_type": "code",
   "execution_count": null,
   "metadata": {},
   "outputs": [],
   "source": [
    "def ylms_to_surface(ylms, center):\n",
    "    xyz_signal = vistools.sh_coeff_to_xyz_signal(ylms, angular_resolution=100, r_scale=1.0)\n",
    "    surface = vistools.xyz_signal_to_surface(xyz_signal, center)\n",
    "    return surface\n",
    "\n",
    "colors = ['red', 'green', 'blue']\n",
    "colormap = {i: c for i, c in enumerate(colors)}"
   ]
  },
  {
   "cell_type": "code",
   "execution_count": null,
   "metadata": {},
   "outputs": [],
   "source": [
    "def load_batched_xyz(pkl):\n",
    "    args = pkl['args']\n",
    "    args.device = 'cpu'\n",
    "    xyz, forces, features = otp.data(pkl['args'])\n",
    "    n_batches, xyz, forces, features = otp.batch(xyz, forces, features, pkl['args'].bs)\n",
    "    return n_batches, xyz, forces, features"
   ]
  },
  {
   "cell_type": "markdown",
   "metadata": {},
   "source": [
    "# It all starts here"
   ]
  },
  {
   "cell_type": "code",
   "execution_count": null,
   "metadata": {},
   "outputs": [],
   "source": [
    "ls -lht *.pkl"
   ]
  },
  {
   "cell_type": "code",
   "execution_count": null,
   "metadata": {},
   "outputs": [],
   "source": [
    "# Select save data here\n",
    "PICKLE = 'out.pkl'\n",
    "\n",
    "pkl = torch.load(PICKLE, map_location='cpu')\n",
    "_, xyz, _, features = load_batched_xyz(pkl)"
   ]
  },
  {
   "cell_type": "code",
   "execution_count": null,
   "metadata": {},
   "outputs": [],
   "source": [
    "steps = len(pkl['dynamics'])\n",
    "epochs = pkl['dynamics'][-1]['epoch']\n",
    "print(f\"There are {steps} steps.\")\n",
    "print(f\"Corresponding to {epochs} epochs.\")\n",
    "print(f\"i.e. about {steps/epochs} steps/epoch\")"
   ]
  },
  {
   "cell_type": "code",
   "execution_count": null,
   "metadata": {},
   "outputs": [],
   "source": [
    "fig, ax = plt.subplots(nrows=2, ncols=1, sharex=True)\n",
    "loss = [i['loss'] for i in pkl['dynamics']]\n",
    "try:\n",
    "    loss_ae = [i['loss_ae'] for i in pkl['dynamics']]\n",
    "except KeyError:\n",
    "    plotboth = True\n",
    "    loss_ae_equi = [i['loss_ae_equi'] for i in pkl['dynamics']]\n",
    "    loss_ae_dense = [i['loss_ae_dense'] for i in pkl['dynamics']]\n",
    "loss_fm = [i['loss_fm'] for i in pkl['dynamics']]\n",
    "\n",
    "ax[0].plot(loss, label='total loss')\n",
    "ax[0].plot(loss_fm, label='force match')\n",
    "ax[0].legend()\n",
    "\n",
    "if plotboth:\n",
    "    ax[1].plot(loss_ae_equi, label='loss_ae_equi')\n",
    "    ax[1].plot(loss_ae_dense, label='loss_ae_dense')\n",
    "    ax[1].legend()\n",
    "else:\n",
    "    ax[1].plot(loss_ae, label='autoenc')\n",
    "    ax[1].legend()\n",
    "\n",
    "fig.tight_layout()\n",
    "plt.show()\n",
    "plt.savefig('loss.png')"
   ]
  },
  {
   "cell_type": "markdown",
   "metadata": {},
   "source": [
    "# Visualize frame"
   ]
  },
  {
   "cell_type": "code",
   "execution_count": null,
   "metadata": {},
   "outputs": [],
   "source": [
    "epoch = 14\n",
    "example = 0"
   ]
  },
  {
   "cell_type": "code",
   "execution_count": null,
   "metadata": {},
   "outputs": [],
   "source": [
    "temp = pkl['summaries'][epoch]['temp']\n",
    "batch = pkl['summaries'][epoch]['batch']\n",
    "geo = xyz[batch, example].detach().numpy()\n",
    "gumble = pkl['summaries'][epoch]['gumble']\n",
    "st_gumble = pkl['summaries'][epoch]['st_gumble']\n",
    "if len(gumble.shape) == 3:\n",
    "    gumble = gumble[example]\n",
    "    st_gumble = st_gumble[example]\n",
    "nearest = pkl['summaries'][epoch]['nearest'][example]\n",
    "\n",
    "cg_xyz = pkl['summaries'][epoch]['cg_xyz'][example].detach().numpy()\n",
    "\n",
    "print(temp, batch)"
   ]
  },
  {
   "cell_type": "code",
   "execution_count": null,
   "metadata": {},
   "outputs": [],
   "source": [
    "plt.imshow(gumble.detach().cpu().numpy().T, aspect=4)\n",
    "# plt.xticks(np.arange(32))\n",
    "# plt.yticks(np.arange(3))\n",
    "# plt.yticks(np.arange(pkl['args'].ncg), [\"CG\" + str(i+1) for i in range(N_cg)])\n",
    "plt.show()"
   ]
  },
  {
   "cell_type": "code",
   "execution_count": null,
   "metadata": {},
   "outputs": [],
   "source": [
    "cg_sph = pkl['summaries'][epoch]['pred_sph'][example].detach().numpy()\n",
    "cg_sph_0 = pkl['summaries'][epoch]['pred_sph'][example, :, :36].detach().numpy()\n",
    "cg_sph_1 = pkl['summaries'][epoch]['pred_sph'][example, :, 36:].detach().numpy()\n",
    "sph_0 = pkl['summaries'][epoch]['sph'][example, :, :36].detach().numpy()\n",
    "sph_1 = pkl['summaries'][epoch]['sph'][example, :, 36:].detach().numpy()"
   ]
  },
  {
   "cell_type": "markdown",
   "metadata": {},
   "source": [
    "# Truth"
   ]
  },
  {
   "cell_type": "code",
   "execution_count": null,
   "metadata": {},
   "outputs": [],
   "source": [
    "# Hydrogen signal\n",
    "data = [ylms_to_surface(ylms=sph_0[i], center=cg_xyz[i]) for i in range(3)]\n",
    "\n",
    "for color in colors:\n",
    "    if pkl['args'].nearest:\n",
    "        mask = vistools.assignment_to_color(nearest, colormap) == color\n",
    "    else:\n",
    "        mask = vistools.assignment_to_color(st_gumble, colormap) == color\n",
    "    data += [vistools.trace_pts(geo[mask.flatten()], color=color)]\n",
    "\n",
    "fig = go.Figure(data=data)\n",
    "fig.show()"
   ]
  },
  {
   "cell_type": "code",
   "execution_count": null,
   "metadata": {},
   "outputs": [],
   "source": [
    "sph_1[0]/np.linalg.norm(sph_1, -1)"
   ]
  },
  {
   "cell_type": "code",
   "execution_count": null,
   "metadata": {},
   "outputs": [],
   "source": [
    "# Carbon signal\n",
    "data = [ylms_to_surface(ylms=sph_1[i]/np.linalg.norm(sph_1, -1), center=cg_xyz[i]) for i in range(3)]\n",
    "\n",
    "for color in colors:\n",
    "    if pkl['args'].nearest:\n",
    "        mask = vistools.assignment_to_color(nearest, colormap) == color\n",
    "    else:\n",
    "        mask = vistools.assignment_to_color(st_gumble, colormap) == color\n",
    "    data += [vistools.trace_pts(geo[mask.flatten()], color=color)]\n",
    "\n",
    "fig = go.Figure(data=data)\n",
    "fig.show()"
   ]
  },
  {
   "cell_type": "markdown",
   "metadata": {},
   "source": [
    "# Predicted"
   ]
  },
  {
   "cell_type": "code",
   "execution_count": null,
   "metadata": {},
   "outputs": [],
   "source": [
    "# Hydrogen signal\n",
    "data = [ylms_to_surface(ylms=cg_sph_0[i], center=cg_xyz[i]) for i in range(3)]\n",
    "\n",
    "for color in colors:\n",
    "    if pkl['args'].nearest:\n",
    "        mask = vistools.assignment_to_color(nearest, colormap) == color\n",
    "    else:\n",
    "        mask = vistools.assignment_to_color(st_gumble, colormap) == color\n",
    "    data += [vistools.trace_pts(geo[mask.flatten()], color=color)]\n",
    "\n",
    "fig = go.Figure(data=data)\n",
    "fig.show()"
   ]
  },
  {
   "cell_type": "code",
   "execution_count": null,
   "metadata": {},
   "outputs": [],
   "source": [
    "# Carbon signal\n",
    "data = [ylms_to_surface(ylms=cg_sph_1[i], center=cg_xyz[i]) for i in range(3)]\n",
    "\n",
    "for color in colors:\n",
    "    if pkl['args'].nearest:\n",
    "        mask = vistools.assignment_to_color(nearest, colormap) == color\n",
    "    else:\n",
    "        mask = vistools.assignment_to_color(st_gumble, colormap) == color\n",
    "    data += [vistools.trace_pts(geo[mask.flatten()], color=color)]\n",
    "\n",
    "fig = go.Figure(data=data)\n",
    "fig.show()"
   ]
  },
  {
   "cell_type": "markdown",
   "metadata": {},
   "source": [
    "# Complete overfit"
   ]
  },
  {
   "cell_type": "code",
   "execution_count": null,
   "metadata": {},
   "outputs": [],
   "source": [
    "if True:\n",
    "    colors = ['red', 'green', 'blue']\n",
    "    colormap = {i: c for i, c in enumerate(colors)}\n",
    "    \n",
    "    # Overfit\n",
    "    PICKLE = 'out.pkl'\n",
    "\n",
    "    pkl = torch.load(PICKLE, map_location='cpu')\n",
    "    _, xyz, _, features = load_batched_xyz(pkl)\n",
    "\n",
    "    true_sph = [i['sph'] for i in pkl['summaries']]\n",
    "#     pred_sph = [i['pred_sph'] for i in pkl['summaries']]\n",
    "    pred_sph = [i['sph'] for i in pkl['summaries']]\n",
    "    \n",
    "    step = len(pred_sph) -  1\n",
    "    split = pred_sph[0].shape[-1] // 2\n",
    "#     cg_sph_1 = pred_sph[step][0, :, :].detach().numpy()\n",
    "    cg_sph_0 = pred_sph[step][0, :, :split].detach().numpy()\n",
    "    cg_sph_1 = pred_sph[step][0, :, split:].detach().numpy()\n",
    "    cg_xyz = pkl['summaries'][step]['cg_xyz'][0]\n",
    "    nearest = pkl['summaries'][step]['nearest'][0]\n",
    "    pkl['args'].nearest = True\n",
    "    geo = torch.tensor([[[2.95687, -0.155487, 2.11914],\n",
    "                         [2.06787, 0.671653, 1.43503],\n",
    "                         [0.850204, 1.00373, 2.03273],\n",
    "                         [0.601561, 0.628464, 3.40416],\n",
    "                         [1.56987, -0.160152, 4.10868],\n",
    "                         [2.7057, -0.572914, 3.4475],\n",
    "                         [-0.660677, 0.987154, 4.01818],\n",
    "                         [-1.5062, -0.0960717, 4.51092],\n",
    "                         [-2.79988, 0.102162, 5.03003],\n",
    "                         [-3.24092, 1.39391, 5.26613],\n",
    "                         [-2.4742, 2.51713, 4.79282],\n",
    "                         [-1.26258, 2.37251, 4.09869],\n",
    "                         [-0.543147, 3.54105, 3.57502],\n",
    "                         [0.705632, 3.706, 4.07958],\n",
    "                         [1.4324, 4.92182, 3.79255],\n",
    "                         [0.943385, 5.85763, 2.93262],\n",
    "                         [-0.394225, 5.73001, 2.50639],\n",
    "                         [-1.12944, 4.62928, 2.87664],\n",
    "                         [3.87787, -0.345135, 1.63161],\n",
    "                         [2.28279, 0.994601, 0.40769],\n",
    "                         [0.0681252, 1.5429, 1.54221],\n",
    "                         [1.31643, -0.405288, 5.13049],\n",
    "                         [3.50865, -0.971784, 4.06418],\n",
    "                         [-1.18795, -1.17369, 4.3918],\n",
    "                         [-3.36382, -0.788193, 5.36065],\n",
    "                         [-4.20054, 1.44102, 5.74857],\n",
    "                         [-2.98015, 3.51865, 4.87225],\n",
    "                         [1.22583, 3.04857, 4.6967],\n",
    "                         [2.46003, 5.08062, 4.05937],\n",
    "                         [1.53019, 6.73809, 2.68288],\n",
    "                         [-0.856573, 6.50135, 1.8472],\n",
    "                         [-2.14819, 4.48423, 2.48099]]])[0].detach().numpy()\n",
    "\n",
    "    print(cg_xyz.shape, cg_sph_1.shape)\n",
    "    \n",
    "    # Carbon signal\n",
    "    data = [ylms_to_surface(ylms=cg_sph_0[i], center=cg_xyz[i]) for i in range(3)]\n",
    "\n",
    "    for color in colors:\n",
    "        if pkl['args'].nearest:\n",
    "            mask = vistools.assignment_to_color(nearest, colormap) == color\n",
    "        else:\n",
    "            mask = vistools.assignment_to_color(st_gumble, colormap) == color\n",
    "        data += [vistools.trace_pts(geo[mask.flatten()], color=color)]\n",
    "\n",
    "    fig = go.Figure(data=data)\n",
    "    fig.show()"
   ]
  },
  {
   "cell_type": "code",
   "execution_count": null,
   "metadata": {},
   "outputs": [],
   "source": [
    "[p.norm(dim=-1) for p in pred_sph]"
   ]
  },
  {
   "cell_type": "code",
   "execution_count": null,
   "metadata": {},
   "outputs": [],
   "source": []
  }
 ],
 "metadata": {
  "kernelspec": {
   "display_name": "Python 3",
   "language": "python",
   "name": "python3"
  },
  "language_info": {
   "codemirror_mode": {
    "name": "ipython",
    "version": 3
   },
   "file_extension": ".py",
   "mimetype": "text/x-python",
   "name": "python",
   "nbconvert_exporter": "python",
   "pygments_lexer": "ipython3",
   "version": "3.7.3"
  }
 },
 "nbformat": 4,
 "nbformat_minor": 2
}
